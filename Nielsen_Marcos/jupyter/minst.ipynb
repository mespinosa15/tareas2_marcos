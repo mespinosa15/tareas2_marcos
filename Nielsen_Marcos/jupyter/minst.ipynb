{
 "cells": [
  {
   "cell_type": "code",
   "execution_count": 1,
   "metadata": {},
   "outputs": [
    {
     "name": "stderr",
     "output_type": "stream",
     "text": [
      "┌ Info: Recompiling stale cache file /home/marcos/.julia/compiled/v1.1/Nielsen2/fWflo.ji for Nielsen2 [df6d8f57-0790-11e9-157e-e1b253f0b271]\n",
      "└ @ Base loading.jl:1184\n"
     ]
    }
   ],
   "source": [
    "using Nielsen2\n",
    "#using Revise"
   ]
  },
  {
   "cell_type": "code",
   "execution_count": 5,
   "metadata": {},
   "outputs": [
    {
     "data": {
      "text/plain": [
       "50000"
      ]
     },
     "execution_count": 5,
     "metadata": {},
     "output_type": "execute_result"
    }
   ],
   "source": [
    "length(traindata)"
   ]
  },
  {
   "cell_type": "code",
   "execution_count": 4,
   "metadata": {},
   "outputs": [],
   "source": [
    "traindata, testsdata, validdata = Nielsen2.load_minst(\"/home/marcos/apps/julia_final/Nielsen_Marcos/data\");"
   ]
  },
  {
   "cell_type": "code",
   "execution_count": 6,
   "metadata": {},
   "outputs": [],
   "source": [
    "network = Nielsen2.Network((784, 30, 10));"
   ]
  },
  {
   "cell_type": "code",
   "execution_count": null,
   "metadata": {},
   "outputs": [
    {
     "name": "stdout",
     "output_type": "stream",
     "text": [
      "Epoch 1: 980 / 10000\n",
      "Epoch 2: 980 / 10000\n",
      "Epoch 3: 980 / 10000\n",
      "Epoch 4: 980 / 10000\n",
      "Epoch 5: 980 / 10000\n",
      "Epoch 6: 980 / 10000\n",
      "Epoch 7: 980 / 10000\n",
      "Epoch 8: 980 / 10000\n",
      "Epoch 9: 980 / 10000\n",
      "Epoch 10: 980 / 10000\n",
      "Epoch 11: 980 / 10000\n",
      "Epoch 12: 980 / 10000\n",
      "Epoch 13: 980 / 10000\n",
      "Epoch 14: 980 / 10000\n",
      "Epoch 15: 980 / 10000\n",
      "Epoch 16: 980 / 10000\n",
      "Epoch 17: 980 / 10000\n",
      "Epoch 18: 980 / 10000\n",
      "Epoch 19: 980 / 10000\n",
      "Epoch 20: 980 / 10000\n",
      "Epoch 21: 980 / 10000\n",
      "Epoch 22: 980 / 10000\n",
      "Epoch 23: 980 / 10000\n",
      "Epoch 24: 980 / 10000\n"
     ]
    }
   ],
   "source": [
    "network = Nielsen2.Network(784, 30, 10);\n",
    "Nielsen2.sgd!(network, traindata; epochs=100, mini_batch_size=10, η=3.0, test_data=testsdata)"
   ]
  },
  {
   "cell_type": "code",
   "execution_count": null,
   "metadata": {},
   "outputs": [
    {
     "name": "stdout",
     "output_type": "stream",
     "text": [
      "Epoch 1: 6531 / 10000\n",
      "Epoch 2: 6583 / 10000\n",
      "Epoch 3: 6715 / 10000\n",
      "Epoch 4: 6719 / 10000\n",
      "Epoch 5: 6718 / 10000\n",
      "Epoch 6: 6742 / 10000\n",
      "Epoch 7: 6770 / 10000\n",
      "Epoch 8: 6776 / 10000\n",
      "Epoch 9: 6796 / 10000\n",
      "Epoch 10: 6778 / 10000\n",
      "Epoch 11: 6799 / 10000\n",
      "Epoch 12: 6803 / 10000\n",
      "Epoch 13: 6808 / 10000\n",
      "Epoch 14: 6806 / 10000\n",
      "Epoch 15: 6803 / 10000\n",
      "Epoch 16: 6800 / 10000\n",
      "Epoch 17: 6810 / 10000\n",
      "Epoch 18: 6812 / 10000\n",
      "Epoch 19: 6805 / 10000\n",
      "Epoch 20: 6812 / 10000\n",
      "Epoch 21: 6826 / 10000\n",
      "Epoch 22: 6820 / 10000\n",
      "Epoch 23: 6823 / 10000\n",
      "Epoch 24: 6820 / 10000\n",
      "Epoch 25: 6824 / 10000\n",
      "Epoch 26: 6812 / 10000\n",
      "Epoch 27: 6825 / 10000\n",
      "Epoch 28: 6815 / 10000\n",
      "Epoch 29: 6828 / 10000\n",
      "Epoch 30: 6824 / 10000\n",
      "Epoch 31: 6831 / 10000\n",
      "Epoch 32: 6822 / 10000\n",
      "Epoch 33: 6826 / 10000\n",
      "Epoch 34: 6832 / 10000\n",
      "Epoch 35: 6822 / 10000\n",
      "Epoch 36: 6833 / 10000\n",
      "Epoch 37: 6828 / 10000\n",
      "Epoch 38: 6837 / 10000\n",
      "Epoch 39: 6829 / 10000\n",
      "Epoch 40: 6830 / 10000\n",
      "Epoch 41: 6832 / 10000\n",
      "Epoch 42: 6830 / 10000\n",
      "Epoch 43: 6838 / 10000\n",
      "Epoch 44: 6835 / 10000\n",
      "Epoch 45: 6826 / 10000\n",
      "Epoch 46: 6828 / 10000\n",
      "Epoch 47: 6827 / 10000\n",
      "Epoch 48: 6827 / 10000\n",
      "Epoch 49: 6833 / 10000\n",
      "Epoch 50: 6832 / 10000\n",
      "Epoch 51: 6833 / 10000\n",
      "Epoch 52: 6825 / 10000\n",
      "Epoch 53: 6831 / 10000\n",
      "Epoch 54: 6827 / 10000\n",
      "Epoch 55: 6829 / 10000\n",
      "Epoch 56: 6830 / 10000\n",
      "Epoch 57: 6831 / 10000\n",
      "Epoch 58: 6816 / 10000\n",
      "Epoch 59: 6828 / 10000\n",
      "Epoch 60: 6828 / 10000\n",
      "Epoch 61: 6827 / 10000\n",
      "Epoch 62: 6828 / 10000\n",
      "Epoch 63: 6826 / 10000\n",
      "Epoch 64: 6832 / 10000\n",
      "Epoch 65: 6831 / 10000\n",
      "Epoch 66: 6831 / 10000\n",
      "Epoch 67: 6827 / 10000\n",
      "Epoch 68: 6829 / 10000\n",
      "Epoch 69: 6835 / 10000\n",
      "Epoch 70: 6835 / 10000\n",
      "Epoch 71: 6832 / 10000\n",
      "Epoch 72: 6835 / 10000\n",
      "Epoch 73: 6834 / 10000\n",
      "Epoch 74: 6834 / 10000\n",
      "Epoch 75: 6834 / 10000\n",
      "Epoch 76: 6833 / 10000\n",
      "Epoch 77: 6833 / 10000\n",
      "Epoch 78: 6831 / 10000\n",
      "Epoch 79: 6841 / 10000\n",
      "Epoch 80: 6839 / 10000\n",
      "Epoch 81: 6842 / 10000\n",
      "Epoch 82: 6836 / 10000\n",
      "Epoch 83: 6839 / 10000\n",
      "Epoch 84: 6843 / 10000\n",
      "Epoch 85: 6844 / 10000\n",
      "Epoch 86: 6843 / 10000\n",
      "Epoch 87: 6841 / 10000\n",
      "Epoch 88: 6844 / 10000\n",
      "Epoch 89: 6841 / 10000\n",
      "Epoch 90: 6843 / 10000\n",
      "Epoch 91: 6839 / 10000\n",
      "Epoch 92: 6837 / 10000\n",
      "Epoch 93: 6844 / 10000\n",
      "Epoch 94: 6840 / 10000\n",
      "Epoch 95: 6844 / 10000\n",
      "Epoch 96: 6848 / 10000\n",
      "Epoch 97: 6848 / 10000\n",
      "Epoch 98: 6843 / 10000\n"
     ]
    }
   ],
   "source": [
    "network2 = Nielsen2.Network(784, 100, 10);\n",
    "Nielsen2.sgd!(network2, traindata; epochs=200, mini_batch_size=10, η=3.0, test_data=testsdata)"
   ]
  },
  {
   "cell_type": "code",
   "execution_count": null,
   "metadata": {},
   "outputs": [],
   "source": []
  }
 ],
 "metadata": {
  "kernelspec": {
   "display_name": "Julia 1.1.0",
   "language": "julia",
   "name": "julia-1.1"
  },
  "language_info": {
   "file_extension": ".jl",
   "mimetype": "application/julia",
   "name": "julia",
   "version": "1.1.0"
  }
 },
 "nbformat": 4,
 "nbformat_minor": 2
}
