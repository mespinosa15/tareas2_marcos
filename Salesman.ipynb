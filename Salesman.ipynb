{
 "cells": [
  {
   "cell_type": "code",
   "execution_count": 1,
   "metadata": {},
   "outputs": [
    {
     "data": {
      "text/plain": [
       "MathOptInterface"
      ]
     },
     "execution_count": 1,
     "metadata": {},
     "output_type": "execute_result"
    }
   ],
   "source": [
    "using JuMP, GLPK, Test\n",
    "const MOI = JuMP.MathOptInterface"
   ]
  },
  {
   "cell_type": "code",
   "execution_count": 2,
   "metadata": {},
   "outputs": [],
   "source": [
    "model = JuMP.Model(JuMP.with_optimizer(GLPK.Optimizer))\n",
    "m=11\n",
    "Ctest=[[0 29 20 21 16 31 100 12 4 31 18];[29 0 15 29 28 40 72 21 29 41 12];\n",
    "    [20 15 0 15 14 25 81 9 23 27 13];[21 29 15 0 4 12 92 12 25 13 25];\n",
    "    [16 28 14 4 0 16 94 9 20 16 22];[31 40 25 12 16 0 95 24 36 3 37];\n",
    "    [100 72 81 92 94 95 0 90 101 99 84];[12 21 9 12 9 24 90 0 15 25 13];\n",
    "    [4 29 23 25 20 36 101 15 0 35 18];\n",
    "    [31 41 27 13 16 3 99 25 35 0 38];[18 12 13 25 22 37 84 13 18 38 0]];\n",
    "#C = rand(m,m)"
   ]
  },
  {
   "cell_type": "code",
   "execution_count": 3,
   "metadata": {},
   "outputs": [],
   "source": [
    "JuMP.@variable(model, x[1:m,1:m], Bin)\n",
    "JuMP.@variable(model, t[1:m], Int)\n",
    "# Objective: minimize total distance\n",
    "JuMP.@objective(model, Min, sum(Ctest' .* x))\n",
    "\n",
    "for i in 1:m\n",
    "    JuMP.@constraint(model,sum(x[i, :]) == 1)\n",
    "    JuMP.@constraint(model,sum(x[:, i]) == 1)\n",
    "    JuMP.@constraint(model,x[i, i] == 0)\n",
    "end"
   ]
  },
  {
   "cell_type": "code",
   "execution_count": 25,
   "metadata": {},
   "outputs": [],
   "source": [
    "# Constraint: graph conectivity\n",
    "for i in 1:m\n",
    "    for j in 2:m\n",
    "        if i != j \n",
    "            JuMP.@constraint(model,t[j] >= t[i] + 1 - (m + 1)*(1 - x[i,j]))\n",
    "        end\n",
    "\n",
    "    end\n",
    "end"
   ]
  },
  {
   "cell_type": "code",
   "execution_count": 26,
   "metadata": {},
   "outputs": [],
   "source": [
    "JuMP.optimize!(model)   "
   ]
  },
  {
   "cell_type": "code",
   "execution_count": 27,
   "metadata": {},
   "outputs": [
    {
     "name": "stdout",
     "output_type": "stream",
     "text": [
      "Objective is: 252.99999999999991\n",
      "Solution is:\n",
      "\n",
      "0.0 0.0 0.0 0.0 0.0 0.0 0.0 1.0 0.0 0.0 0.0 \n",
      "0.0 0.0 0.0 0.0 0.0 0.0 0.0 0.0 0.0 0.0 1.0 \n",
      "0.0 0.0 0.0 0.0 0.0 0.0 1.0 0.0 0.0 0.0 0.0 \n",
      "0.0 0.0 0.0 0.0 0.0 0.0 0.0 0.0 0.0 1.0 0.0 \n",
      "0.0 0.0 0.0 1.0 0.0 0.0 0.0 0.0 0.0 0.0 0.0 \n",
      "0.0 0.0 1.0 0.0 0.0 0.0 0.0 0.0 0.0 0.0 0.0 \n",
      "0.0 1.0 0.0 0.0 0.0 0.0 0.0 0.0 0.0 0.0 0.0 \n",
      "0.0 0.0 0.0 0.0 1.0 0.0 0.0 0.0 0.0 0.0 0.0 \n",
      "1.0 0.0 0.0 0.0 0.0 0.0 0.0 0.0 0.0 0.0 0.0 \n",
      "0.0 0.0 0.0 0.0 0.0 1.0 0.0 0.0 0.0 0.0 0.0 \n",
      "0.0 0.0 0.0 0.0 0.0 0.0 0.0 0.0 1.0 0.0 0.0 "
     ]
    }
   ],
   "source": [
    "    println(\"Objective is: \", JuMP.objective_value(model))\n",
    "    println(\"Solution is:\")\n",
    "    for i in 1:m \n",
    "        println()\n",
    "        for j in 1:m\n",
    "            print(JuMP.value(x[i,j]), \" \")\n",
    "        end\n",
    "    end\n",
    " \n",
    "\n",
    "#model"
   ]
  },
  {
   "cell_type": "code",
   "execution_count": 16,
   "metadata": {},
   "outputs": [
    {
     "data": {
      "text/plain": [
       "11×11 Array{Int64,2}:\n",
       "   0  29  20  21  16  31  100  12    4  31  18\n",
       "  29   0  15  29  28  40   72  21   29  41  12\n",
       "  20  15   0  15  14  25   81   9   23  27  13\n",
       "  21  29  15   0   4  12   92  12   25  13  25\n",
       "  16  28  14   4   0  16   94   9   20  16  22\n",
       "  31  40  25  12  16   0   95  24   36   3  37\n",
       " 100  72  81  92  94  95    0  90  101  99  84\n",
       "  12  21   9  12   9  24   90   0   15  25  13\n",
       "   4  29  23  25  20  36  101  15    0  35  18\n",
       "  31  41  27  13  16   3   99  25   35   0  38\n",
       "  18  12  13  25  22  37   84  13   18  38   0"
      ]
     },
     "execution_count": 16,
     "metadata": {},
     "output_type": "execute_result"
    }
   ],
   "source": [
    "Ctest"
   ]
  },
  {
   "cell_type": "code",
   "execution_count": 18,
   "metadata": {},
   "outputs": [
    {
     "data": {
      "text/plain": [
       "0.0"
      ]
     },
     "execution_count": 18,
     "metadata": {},
     "output_type": "execute_result"
    }
   ],
   "source": [
    "JuMP.value(t[6])"
   ]
  },
  {
   "cell_type": "code",
   "execution_count": null,
   "metadata": {},
   "outputs": [],
   "source": []
  }
 ],
 "metadata": {
  "kernelspec": {
   "display_name": "Julia 1.1.0",
   "language": "julia",
   "name": "julia-1.1"
  },
  "language_info": {
   "file_extension": ".jl",
   "mimetype": "application/julia",
   "name": "julia",
   "version": "1.1.0"
  }
 },
 "nbformat": 4,
 "nbformat_minor": 2
}
